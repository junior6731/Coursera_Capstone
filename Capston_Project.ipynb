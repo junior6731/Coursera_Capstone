#THE NOTEBOOK IS FOR CAPSTONE PROJECT

import pandas as pd
import numpy as np

print('Hello Capstone Project Course')
